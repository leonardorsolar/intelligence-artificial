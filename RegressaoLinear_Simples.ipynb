{
  "nbformat": 4,
  "nbformat_minor": 0,
  "metadata": {
    "colab": {
      "name": "RegressaoLinear_Simples.ipynb",
      "provenance": [],
      "authorship_tag": "ABX9TyMrMefV+RJVhI+6MtMlo0rJ",
      "include_colab_link": true
    },
    "kernelspec": {
      "name": "python3",
      "display_name": "Python 3"
    }
  },
  "cells": [
    {
      "cell_type": "markdown",
      "metadata": {
        "id": "view-in-github",
        "colab_type": "text"
      },
      "source": [
        "<a href=\"https://colab.research.google.com/github/leonardosolar/intelligence-artificial/blob/main/RegressaoLinear_Simples.ipynb\" target=\"_parent\"><img src=\"https://colab.research.google.com/assets/colab-badge.svg\" alt=\"Open In Colab\"/></a>"
      ]
    },
    {
      "cell_type": "markdown",
      "metadata": {
        "id": "INhQui7h5X-i"
      },
      "source": [
        "**`Regressão Linear`**"
      ]
    },
    {
      "cell_type": "markdown",
      "metadata": {
        "id": "PUXoY41GCzy_"
      },
      "source": [
        "Trata-se de um conjunto de dados que contem, para a Variável X: Investimento em Propaganda de Uma Rede de Supermercados. A variável Y: Vendas Após Veiculação da Propaganda."
      ]
    },
    {
      "cell_type": "markdown",
      "metadata": {
        "id": "sItR_9o6Bns6"
      },
      "source": [
        "**Instalando dependências**\n",
        "Utilizará a biblioteca gspread para gerenciar a API do Google Sheets"
      ]
    },
    {
      "cell_type": "code",
      "metadata": {
        "id": "W0TGAIM95cSv",
        "outputId": "33b17af3-9056-4de9-b37f-3c6b03ab721a",
        "colab": {
          "base_uri": "https://localhost:8080/"
        }
      },
      "source": [
        "# https://gspread.readthedocs.io/en/latest/user-guide.html\n",
        "!pip install --upgrade gspread\n"
      ],
      "execution_count": null,
      "outputs": [
        {
          "output_type": "stream",
          "text": [
            "Collecting gspread\n",
            "  Downloading https://files.pythonhosted.org/packages/9c/ba/bc8de4f5077bd34bc873bdd67a89cb29c4f181abba8a836d2c6a0a142365/gspread-3.6.0-py3-none-any.whl\n",
            "Requirement already satisfied, skipping upgrade: requests>=2.2.1 in /usr/local/lib/python3.6/dist-packages (from gspread) (2.23.0)\n",
            "Requirement already satisfied, skipping upgrade: google-auth-oauthlib>=0.4.1 in /usr/local/lib/python3.6/dist-packages (from gspread) (0.4.1)\n",
            "Requirement already satisfied, skipping upgrade: google-auth>=1.12.0 in /usr/local/lib/python3.6/dist-packages (from gspread) (1.17.2)\n",
            "Requirement already satisfied, skipping upgrade: chardet<4,>=3.0.2 in /usr/local/lib/python3.6/dist-packages (from requests>=2.2.1->gspread) (3.0.4)\n",
            "Requirement already satisfied, skipping upgrade: urllib3!=1.25.0,!=1.25.1,<1.26,>=1.21.1 in /usr/local/lib/python3.6/dist-packages (from requests>=2.2.1->gspread) (1.24.3)\n",
            "Requirement already satisfied, skipping upgrade: certifi>=2017.4.17 in /usr/local/lib/python3.6/dist-packages (from requests>=2.2.1->gspread) (2020.6.20)\n",
            "Requirement already satisfied, skipping upgrade: idna<3,>=2.5 in /usr/local/lib/python3.6/dist-packages (from requests>=2.2.1->gspread) (2.10)\n",
            "Requirement already satisfied, skipping upgrade: requests-oauthlib>=0.7.0 in /usr/local/lib/python3.6/dist-packages (from google-auth-oauthlib>=0.4.1->gspread) (1.3.0)\n",
            "Requirement already satisfied, skipping upgrade: setuptools>=40.3.0 in /usr/local/lib/python3.6/dist-packages (from google-auth>=1.12.0->gspread) (50.3.0)\n",
            "Requirement already satisfied, skipping upgrade: rsa<5,>=3.1.4; python_version >= \"3\" in /usr/local/lib/python3.6/dist-packages (from google-auth>=1.12.0->gspread) (4.6)\n",
            "Requirement already satisfied, skipping upgrade: pyasn1-modules>=0.2.1 in /usr/local/lib/python3.6/dist-packages (from google-auth>=1.12.0->gspread) (0.2.8)\n",
            "Requirement already satisfied, skipping upgrade: cachetools<5.0,>=2.0.0 in /usr/local/lib/python3.6/dist-packages (from google-auth>=1.12.0->gspread) (4.1.1)\n",
            "Requirement already satisfied, skipping upgrade: six>=1.9.0 in /usr/local/lib/python3.6/dist-packages (from google-auth>=1.12.0->gspread) (1.15.0)\n",
            "Requirement already satisfied, skipping upgrade: oauthlib>=3.0.0 in /usr/local/lib/python3.6/dist-packages (from requests-oauthlib>=0.7.0->google-auth-oauthlib>=0.4.1->gspread) (3.1.0)\n",
            "Requirement already satisfied, skipping upgrade: pyasn1>=0.1.3 in /usr/local/lib/python3.6/dist-packages (from rsa<5,>=3.1.4; python_version >= \"3\"->google-auth>=1.12.0->gspread) (0.4.8)\n",
            "Installing collected packages: gspread\n",
            "  Found existing installation: gspread 3.0.1\n",
            "    Uninstalling gspread-3.0.1:\n",
            "      Successfully uninstalled gspread-3.0.1\n",
            "Successfully installed gspread-3.6.0\n"
          ],
          "name": "stdout"
        }
      ]
    },
    {
      "cell_type": "markdown",
      "metadata": {
        "id": "-DkgL5BO6NbR"
      },
      "source": [
        "**Download do Dataset**\n"
      ]
    },
    {
      "cell_type": "markdown",
      "metadata": {
        "id": "bCD36RYQCIoy"
      },
      "source": [
        "**Criando credenciais**\n",
        "Após instalar todas as bibliotecas necessárias vamos criar uma credencial no Google para gerenciar as planilhas."
      ]
    },
    {
      "cell_type": "code",
      "metadata": {
        "id": "TlLSX2PY6Imh",
        "outputId": "3c32349f-3f42-42ec-84e4-9509872d305f",
        "colab": {
          "base_uri": "https://localhost:8080/"
        }
      },
      "source": [
        "from google.colab import auth\n",
        "auth.authenticate_user()\n",
        "\n",
        "import gspread\n",
        "from oauth2client.client import GoogleCredentials\n",
        "\n",
        "gc = gspread.authorize(GoogleCredentials.get_application_default())\n",
        "\n",
        "wb = gc.open_by_key('11zHQchwsEXbUhZSX8RcaAC3hZzHkYiL74n7zjSt-hk8')\n",
        "\n",
        "ws = wb.worksheet('Página1')\n",
        "\n",
        "# get_all_values gives a list of rows.\n",
        "rows = ws.get_all_values()\n",
        "print(rows)"
      ],
      "execution_count": null,
      "outputs": [
        {
          "output_type": "stream",
          "text": [
            "[['Investimento em Propaganda', 'Vendas'], ['30', '430'], ['21', '335'], ['35', '520'], ['42', '490'], ['37', '470'], ['2', '210'], ['8', '195'], ['17', '270'], ['35', '400'], ['25', '480']]\n"
          ],
          "name": "stdout"
        }
      ]
    },
    {
      "cell_type": "markdown",
      "metadata": {
        "id": "9Ur0jhUY6z0a"
      },
      "source": [
        "\n",
        "**Carregar o dataset para um Dataframe (Pandas)**"
      ]
    },
    {
      "cell_type": "code",
      "metadata": {
        "id": "056ZBnZT63Eh",
        "outputId": "1508dcf3-50b1-426a-adb9-72eb8fb795d8",
        "colab": {
          "base_uri": "https://localhost:8080/",
          "height": 204
        }
      },
      "source": [
        "# Convert to a DataFrame and render.\n",
        "import pandas as pd\n",
        "#pd.DataFrame.from_records(rows)\n",
        "# Cria um dataset chamado 'df' que receberá os dados da planilha\n",
        "df = pd.DataFrame(ws.get_all_records())\n",
        "# exibir as 5 primeiras linhas\n",
        "df.head()"
      ],
      "execution_count": null,
      "outputs": [
        {
          "output_type": "execute_result",
          "data": {
            "text/html": [
              "<div>\n",
              "<style scoped>\n",
              "    .dataframe tbody tr th:only-of-type {\n",
              "        vertical-align: middle;\n",
              "    }\n",
              "\n",
              "    .dataframe tbody tr th {\n",
              "        vertical-align: top;\n",
              "    }\n",
              "\n",
              "    .dataframe thead th {\n",
              "        text-align: right;\n",
              "    }\n",
              "</style>\n",
              "<table border=\"1\" class=\"dataframe\">\n",
              "  <thead>\n",
              "    <tr style=\"text-align: right;\">\n",
              "      <th></th>\n",
              "      <th>Investimento em Propaganda</th>\n",
              "      <th>Vendas</th>\n",
              "    </tr>\n",
              "  </thead>\n",
              "  <tbody>\n",
              "    <tr>\n",
              "      <th>0</th>\n",
              "      <td>30</td>\n",
              "      <td>430</td>\n",
              "    </tr>\n",
              "    <tr>\n",
              "      <th>1</th>\n",
              "      <td>21</td>\n",
              "      <td>335</td>\n",
              "    </tr>\n",
              "    <tr>\n",
              "      <th>2</th>\n",
              "      <td>35</td>\n",
              "      <td>520</td>\n",
              "    </tr>\n",
              "    <tr>\n",
              "      <th>3</th>\n",
              "      <td>42</td>\n",
              "      <td>490</td>\n",
              "    </tr>\n",
              "    <tr>\n",
              "      <th>4</th>\n",
              "      <td>37</td>\n",
              "      <td>470</td>\n",
              "    </tr>\n",
              "  </tbody>\n",
              "</table>\n",
              "</div>"
            ],
            "text/plain": [
              "   Investimento em Propaganda  Vendas\n",
              "0                          30     430\n",
              "1                          21     335\n",
              "2                          35     520\n",
              "3                          42     490\n",
              "4                          37     470"
            ]
          },
          "metadata": {
            "tags": []
          },
          "execution_count": 3
        }
      ]
    },
    {
      "cell_type": "markdown",
      "metadata": {
        "id": "HMRkMMDBzshz"
      },
      "source": [
        "Alternativa - Carregando um dataset: df = pd.read_csv('Regresao_Linear.csv')"
      ]
    },
    {
      "cell_type": "code",
      "metadata": {
        "id": "Y2z1Z2PJ7-Xo",
        "outputId": "4c6b4031-3157-4bd0-8230-bab7b92e13ab",
        "colab": {
          "base_uri": "https://localhost:8080/"
        }
      },
      "source": [
        "# Removendo os espaços em branco\n",
        "cols = df.columns\n",
        "cols = cols.map(lambda x: x.replace(' ','') if isinstance(x, (str)) else x)\n",
        "df.columns = cols\n",
        "\n",
        "#EXIBE A ESTRUTURA DO DATAFRAME\n",
        "print(df)\n",
        "\n",
        "#Exibe o resumo do Dataset\n",
        "# print(df.describe()) "
      ],
      "execution_count": null,
      "outputs": [
        {
          "output_type": "stream",
          "text": [
            "   InvestimentoemPropaganda  Vendas\n",
            "0                        30     430\n",
            "1                        21     335\n",
            "2                        35     520\n",
            "3                        42     490\n",
            "4                        37     470\n",
            "5                         2     210\n",
            "6                         8     195\n",
            "7                        17     270\n",
            "8                        35     400\n",
            "9                        25     480\n"
          ],
          "name": "stdout"
        }
      ]
    },
    {
      "cell_type": "markdown",
      "metadata": {
        "id": "SrbYWH6OBPco"
      },
      "source": [
        "Selecionar apenas as features Investimento em Propaganda e Vendas"
      ]
    },
    {
      "cell_type": "code",
      "metadata": {
        "id": "9xM09PDO7mv4",
        "outputId": "33727b6e-cd3e-42f7-bb15-f152e7704806",
        "colab": {
          "base_uri": "https://localhost:8080/"
        }
      },
      "source": [
        "investimento =  df[['InvestimentoemPropaganda']]\n",
        "vendas = df[['Vendas']]\n",
        "print(vendas.head())"
      ],
      "execution_count": null,
      "outputs": [
        {
          "output_type": "stream",
          "text": [
            "   Vendas\n",
            "0     430\n",
            "1     335\n",
            "2     520\n",
            "3     490\n",
            "4     470\n"
          ],
          "name": "stdout"
        }
      ]
    },
    {
      "cell_type": "markdown",
      "metadata": {
        "id": "ouwkoRwM3Kqp"
      },
      "source": [
        "**Plotar o gráfico**"
      ]
    },
    {
      "cell_type": "markdown",
      "metadata": {
        "id": "P5pNpQd63ZoF"
      },
      "source": [
        "Usaremos Matplotlib que é uma biblioteca para a visualização de dados em Python; Matplotlib.pyplot é um módulo da matplotlib"
      ]
    },
    {
      "cell_type": "code",
      "metadata": {
        "id": "pgP31ZXU3VfF"
      },
      "source": [
        "from matplotlib import pyplot as plt"
      ],
      "execution_count": null,
      "outputs": []
    },
    {
      "cell_type": "markdown",
      "metadata": {
        "id": "0KXGmSRl7xyD"
      },
      "source": [
        "plt.scatter(X,Y,label='Y(X)');\n",
        "plt.xlabel('X');\n",
        "plt.ylabel('Y');\n",
        "plt.legend();"
      ]
    },
    {
      "cell_type": "code",
      "metadata": {
        "id": "Jl59v9Jd3mF3",
        "outputId": "548c0766-a387-4298-a080-be69ebecfc99",
        "colab": {
          "base_uri": "https://localhost:8080/",
          "height": 279
        }
      },
      "source": [
        "plt.scatter(investimento,vendas,label='Y(X)');\n",
        "plt.xlabel('investimento');\n",
        "plt.ylabel('vendas');\n",
        "plt.legend();"
      ],
      "execution_count": null,
      "outputs": [
        {
          "output_type": "display_data",
          "data": {
            "image/png": "[encoded data removed]",
            "text/plain": [
              "<Figure size 432x288 with 1 Axes>"
            ]
          },
          "metadata": {
            "tags": [],
            "needs_background": "light"
          }
        }
      ]
    },
    {
      "cell_type": "markdown",
      "metadata": {
        "id": "-cg-BaX7DL0X"
      },
      "source": [
        "**Dividir o dataset em dados de treinamento e dados de teste**"
      ]
    },
    {
      "cell_type": "markdown",
      "metadata": {
        "id": "56x9ISI8DUin"
      },
      "source": [
        "Utilizaremos o train_test_split da bilbioteca scikitlearn"
      ]
    },
    {
      "cell_type": "code",
      "metadata": {
        "id": "jNWjlcHfDt5n"
      },
      "source": [
        "from sklearn.model_selection import train_test_split"
      ],
      "execution_count": null,
      "outputs": []
    },
    {
      "cell_type": "code",
      "metadata": {
        "id": "YiXlS6jvDRc4",
        "outputId": "70751ad0-9a5b-4289-f134-e8473cf646c2",
        "colab": {
          "base_uri": "https://localhost:8080/"
        }
      },
      "source": [
        "investimento_treino, investimento_test, vendas_treino, vendas_teste = train_test_split(investimento, vendas, test_size=0.2, random_state=42)\n",
        "print(type(investimento_treino))"
      ],
      "execution_count": null,
      "outputs": [
        {
          "output_type": "stream",
          "text": [
            "<class 'pandas.core.frame.DataFrame'>\n"
          ],
          "name": "stdout"
        }
      ]
    },
    {
      "cell_type": "markdown",
      "metadata": {
        "id": "xN1FR7OA9NcU"
      },
      "source": [
        " dataset de treino"
      ]
    },
    {
      "cell_type": "code",
      "metadata": {
        "id": "PVdqAGXo8173",
        "outputId": "828880b6-f1da-4d38-b747-b8869d00159a",
        "colab": {
          "base_uri": "https://localhost:8080/"
        }
      },
      "source": [
        "print(vendas_treino.head())"
      ],
      "execution_count": null,
      "outputs": [
        {
          "output_type": "stream",
          "text": [
            "   Vendas\n",
            "5     210\n",
            "0     430\n",
            "7     270\n",
            "2     520\n",
            "9     480\n"
          ],
          "name": "stdout"
        }
      ]
    },
    {
      "cell_type": "markdown",
      "metadata": {
        "id": "BKwvlan89Q_d"
      },
      "source": [
        " dataset de teste"
      ]
    },
    {
      "cell_type": "code",
      "metadata": {
        "id": "QDpZBNY_9BzK",
        "outputId": "22125b11-4114-4a5c-c9ac-fddfc44317dd",
        "colab": {
          "base_uri": "https://localhost:8080/"
        }
      },
      "source": [
        "print(vendas_teste.head())"
      ],
      "execution_count": null,
      "outputs": [
        {
          "output_type": "stream",
          "text": [
            "   Vendas\n",
            "8     400\n",
            "1     335\n"
          ],
          "name": "stdout"
        }
      ]
    },
    {
      "cell_type": "markdown",
      "metadata": {
        "id": "PugQ7pIuEAHx"
      },
      "source": [
        "**Exibir a correlação entre as features do dataset de treinamento**"
      ]
    },
    {
      "cell_type": "markdown",
      "metadata": {
        "id": "_TkmyBSzEfml"
      },
      "source": [
        "plt = Matplotlib que é uma biblioteca para a visualização de dados em Python;\n",
        " Matplotlib.pyplot é um módulo da matplotlib"
      ]
    },
    {
      "cell_type": "code",
      "metadata": {
        "id": "6Tn-jSYoECKc",
        "outputId": "c3ddcbf9-96ac-47b9-e3bd-413e2f29cd9f",
        "colab": {
          "base_uri": "https://localhost:8080/",
          "height": 279
        }
      },
      "source": [
        "plt.scatter(investimento_treino, vendas_treino, color='blue')\n",
        "plt.xlabel(\"Investimento em Propaganda\")\n",
        "plt.ylabel(\"Vendas\")\n",
        "plt.show()"
      ],
      "execution_count": null,
      "outputs": [
        {
          "output_type": "display_data",
          "data": {
            "image/png": "[encoded data removed]",
            "text/plain": [
              "<Figure size 432x288 with 1 Axes>"
            ]
          },
          "metadata": {
            "tags": [],
            "needs_background": "light"
          }
        }
      ]
    },
    {
      "cell_type": "markdown",
      "metadata": {
        "id": "j6_inBPRG6-b"
      },
      "source": [
        "**Treinar o modelo de regressão linear (Y = A + B.X)**"
      ]
    },
    {
      "cell_type": "markdown",
      "metadata": {
        "id": "ytgGeJMDAzkk"
      },
      "source": [
        "Aplicando Regressão Linear com Scikit-Learn"
      ]
    },
    {
      "cell_type": "code",
      "metadata": {
        "id": "CKzFTkCwHP9v"
      },
      "source": [
        "from sklearn import linear_model"
      ],
      "execution_count": null,
      "outputs": []
    },
    {
      "cell_type": "code",
      "metadata": {
        "id": "mtnqBfAYG9W8",
        "outputId": "a55db17e-9447-43b1-9c94-ebb3ec566e80",
        "colab": {
          "base_uri": "https://localhost:8080/"
        }
      },
      "source": [
        "# CRIAR UM MODELO DE TIPO DE REGRESSÃO LINEAR\n",
        "o que é modelo =  linear_model.LinearRegression()\n",
        "\n",
        "# TREINAR O MODELO USANDO O DATASET DE TESTE\n",
        "# PARA ENCONTRAR O VALOR DE A E B (Y = A + B.X)\n",
        "modelo.fit(investimento, vendas)"
      ],
      "execution_count": null,
      "outputs": [
        {
          "output_type": "execute_result",
          "data": {
            "text/plain": [
              "LinearRegression(copy_X=True, fit_intercept=True, n_jobs=None, normalize=False)"
            ]
          },
          "metadata": {
            "tags": []
          },
          "execution_count": 18
        }
      ]
    },
    {
      "cell_type": "markdown",
      "metadata": {
        "id": "C5WSRnm7HhKD"
      },
      "source": [
        "**Exibir os coeficientes (A e B)**"
      ]
    },
    {
      "cell_type": "code",
      "metadata": {
        "id": "QeQDvC9sHi8z",
        "outputId": "4864a312-e367-4d95-ebb0-9781ff790840",
        "colab": {
          "base_uri": "https://localhost:8080/"
        }
      },
      "source": [
        "print('(A) Intercepto: ', modelo.intercept_)\n",
        "print('(B) Inclinação: ', modelo.coef_)"
      ],
      "execution_count": null,
      "outputs": [
        {
          "output_type": "stream",
          "text": [
            "(A) Intercepto:  [170.78297763]\n",
            "(B) Inclinação:  [[8.30226279]]\n"
          ],
          "name": "stdout"
        }
      ]
    },
    {
      "cell_type": "markdown",
      "metadata": {
        "id": "CW51FNiYHqYd"
      },
      "source": [
        "**Vamos exibir a nossa reta de regressão no dataset de treino**"
      ]
    },
    {
      "cell_type": "code",
      "metadata": {
        "id": "8XFow0SoHrst",
        "outputId": "fe18182c-89b9-45d0-e76d-587f743c7508",
        "colab": {
          "base_uri": "https://localhost:8080/",
          "height": 279
        }
      },
      "source": [
        "plt.scatter(investimento_treino, vendas_treino, color='blue')\n",
        "plt.plot(investimento_treino, modelo.coef_[0][0]*investimento_treino + modelo.intercept_[0], '-r')\n",
        "plt.ylabel(\"Vendas\")\n",
        "plt.xlabel(\"Investimento\")\n",
        "plt.show()"
      ],
      "execution_count": null,
      "outputs": [
        {
          "output_type": "display_data",
          "data": {
            "image/png": "[encoded data removed]",
            "text/plain": [
              "<Figure size 432x288 with 1 Axes>"
            ]
          },
          "metadata": {
            "tags": [],
            "needs_background": "light"
          }
        }
      ]
    },
    {
      "cell_type": "markdown",
      "metadata": {
        "id": "fHd2CAKHIbWJ"
      },
      "source": [
        "\n",
        "**Vamos executar o nosso modelo no dataset de teste**"
      ]
    },
    {
      "cell_type": "code",
      "metadata": {
        "id": "ZfefjVMBIctM"
      },
      "source": [
        "#Primeiro a gente tem que fazer as predições usando o modelo e base de teste\n",
        "predicoesVendas = modelo.predict(investimento_test)"
      ],
      "execution_count": null,
      "outputs": []
    },
    {
      "cell_type": "markdown",
      "metadata": {
        "id": "cYxEcRQoIrXP"
      },
      "source": [
        "Vamos exibir a nossa reta de regressão no dataset de teste"
      ]
    },
    {
      "cell_type": "code",
      "metadata": {
        "id": "-3Wq9myXIsAL",
        "outputId": "7d891733-d3e8-4094-827e-61f1cc9e0238",
        "colab": {
          "base_uri": "https://localhost:8080/",
          "height": 279
        }
      },
      "source": [
        "plt.scatter(investimento_test, vendas_teste, color='blue')\n",
        "plt.plot(investimento_test, modelo.coef_[0][0]*investimento_test + modelo.intercept_[0], '-r')\n",
        "plt.ylabel(\"vendas\")\n",
        "plt.xlabel(\"investimento\")\n",
        "plt.show()"
      ],
      "execution_count": null,
      "outputs": [
        {
          "output_type": "display_data",
          "data": {
            "image/png": "[encoded data removed]",
            "text/plain": [
              "<Figure size 432x288 with 1 Axes>"
            ]
          },
          "metadata": {
            "tags": [],
            "needs_background": "light"
          }
        }
      ]
    },
    {
      "cell_type": "markdown",
      "metadata": {
        "id": "yIeXEA_nI9LE"
      },
      "source": [
        "**Vamos avaliar o modelo**"
      ]
    },
    {
      "cell_type": "code",
      "metadata": {
        "id": "2WyIWMqhJD2K"
      },
      "source": [
        "import pylab as pl\n",
        "import numpy as np\n",
        "from sklearn.metrics import r2_score, mean_squared_error,mean_absolute_error\n",
        "from sklearn.model_selection import train_test_split\n",
        "from math import sqrt"
      ],
      "execution_count": null,
      "outputs": []
    },
    {
      "cell_type": "code",
      "metadata": {
        "id": "9RzOkf7jI99j",
        "outputId": "fcedb6a8-ab6f-47ae-9b70-3d0a53150ec4",
        "colab": {
          "base_uri": "https://localhost:8080/"
        }
      },
      "source": [
        "#Agora é mostrar as métricas\n",
        "print(\"Soma dos Erros ao Quadrado (SSE): %2.f \" % np.sum((predicoesVendas - vendas_teste)**2))\n",
        "print(\"Erro Quadrático Médio (MSE): %.2f\" % mean_squared_error(vendas_teste, predicoesVendas))\n",
        "print(\"Erro Médio Absoluto (MAE): %.2f\" % mean_absolute_error(vendas_teste, predicoesVendas))\n",
        "print (\"Raiz do Erro Quadrático Médio (RMSE): %.2f \" % sqrt(mean_squared_error(vendas_teste, predicoesVendas)))\n",
        "print(\"R2-score: %.2f\" % r2_score(predicoesVendas , vendas_teste) )"
      ],
      "execution_count": null,
      "outputs": [
        {
          "output_type": "stream",
          "text": [
            "Soma dos Erros ao Quadrado (SSE): 3868 \n",
            "Erro Quadrático Médio (MSE): 1933.97\n",
            "Erro Médio Absoluto (MAE): 35.75\n",
            "Raiz do Erro Quadrático Médio (RMSE): 43.98 \n",
            "R2-score: 0.43\n"
          ],
          "name": "stdout"
        }
      ]
    },
    {
      "cell_type": "markdown",
      "metadata": {
        "id": "PERF_ZHG_VwO"
      },
      "source": [
        "Como Criar um Modelo Simples para Prever Séries Temporais Usando Machine Learning em Python https://www.mariofilho.com/como-criar-um-modelo-simples-para-prever-series-temporais-usando-machine-learning-em-python/"
      ]
    },
    {
      "cell_type": "markdown",
      "metadata": {
        "id": "WhGkydM3Bymw"
      },
      "source": [
        "https://matheusfacure.github.io/2017/07/19/MQO-sklearn/"
      ]
    }
  ]
}