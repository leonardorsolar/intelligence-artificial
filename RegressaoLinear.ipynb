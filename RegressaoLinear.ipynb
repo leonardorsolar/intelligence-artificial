{
  "nbformat": 4,
  "nbformat_minor": 0,
  "metadata": {
    "colab": {
      "name": "RegressaoLinear.ipynb",
      "provenance": [],
      "authorship_tag": "ABX9TyMRxTxwqlklxs133qm5u8eA",
      "include_colab_link": true
    },
    "kernelspec": {
      "name": "python3",
      "display_name": "Python 3"
    }
  },
  "cells": [
    {
      "cell_type": "markdown",
      "metadata": {
        "id": "view-in-github",
        "colab_type": "text"
      },
      "source": [
        "<a href=\"https://colab.research.google.com/github/leonardosolar/intelligence-artificial/blob/main/RegressaoLinear.ipynb\" target=\"_parent\"><img src=\"https://colab.research.google.com/assets/colab-badge.svg\" alt=\"Open In Colab\"/></a>"
      ]
    },
    {
      "cell_type": "markdown",
      "metadata": {
        "id": "INhQui7h5X-i"
      },
      "source": [
        "**`Regressão Linear`**"
      ]
    },
    {
      "cell_type": "markdown",
      "metadata": {
        "id": "PUXoY41GCzy_"
      },
      "source": [
        "Trata-se de um conjunto de dados que contem, para a Variável X: Investimento em Propaganda de Uma Rede de Supermercados. A variável Y: Vendas Após Veiculação da Propaganda."
      ]
    },
    {
      "cell_type": "markdown",
      "metadata": {
        "id": "sItR_9o6Bns6"
      },
      "source": [
        "**Instalando dependências**\n",
        "Utilizará a biblioteca gspread para gerenciar a API do Google Sheets"
      ]
    },
    {
      "cell_type": "code",
      "metadata": {
        "id": "W0TGAIM95cSv",
        "outputId": "687664ee-7ef8-42be-c0f1-851c0f72220f",
        "colab": {
          "base_uri": "https://localhost:8080/",
          "height": 411
        }
      },
      "source": [
        "# https://gspread.readthedocs.io/en/latest/user-guide.html\n",
        "!pip install --upgrade gspread"
      ],
      "execution_count": 1,
      "outputs": [
        {
          "output_type": "stream",
          "text": [
            "Collecting gspread\n",
            "  Downloading https://files.pythonhosted.org/packages/9c/ba/bc8de4f5077bd34bc873bdd67a89cb29c4f181abba8a836d2c6a0a142365/gspread-3.6.0-py3-none-any.whl\n",
            "Requirement already satisfied, skipping upgrade: google-auth-oauthlib>=0.4.1 in /usr/local/lib/python3.6/dist-packages (from gspread) (0.4.1)\n",
            "Requirement already satisfied, skipping upgrade: requests>=2.2.1 in /usr/local/lib/python3.6/dist-packages (from gspread) (2.23.0)\n",
            "Requirement already satisfied, skipping upgrade: google-auth>=1.12.0 in /usr/local/lib/python3.6/dist-packages (from gspread) (1.17.2)\n",
            "Requirement already satisfied, skipping upgrade: requests-oauthlib>=0.7.0 in /usr/local/lib/python3.6/dist-packages (from google-auth-oauthlib>=0.4.1->gspread) (1.3.0)\n",
            "Requirement already satisfied, skipping upgrade: certifi>=2017.4.17 in /usr/local/lib/python3.6/dist-packages (from requests>=2.2.1->gspread) (2020.6.20)\n",
            "Requirement already satisfied, skipping upgrade: idna<3,>=2.5 in /usr/local/lib/python3.6/dist-packages (from requests>=2.2.1->gspread) (2.10)\n",
            "Requirement already satisfied, skipping upgrade: urllib3!=1.25.0,!=1.25.1,<1.26,>=1.21.1 in /usr/local/lib/python3.6/dist-packages (from requests>=2.2.1->gspread) (1.24.3)\n",
            "Requirement already satisfied, skipping upgrade: chardet<4,>=3.0.2 in /usr/local/lib/python3.6/dist-packages (from requests>=2.2.1->gspread) (3.0.4)\n",
            "Requirement already satisfied, skipping upgrade: setuptools>=40.3.0 in /usr/local/lib/python3.6/dist-packages (from google-auth>=1.12.0->gspread) (50.3.0)\n",
            "Requirement already satisfied, skipping upgrade: rsa<5,>=3.1.4; python_version >= \"3\" in /usr/local/lib/python3.6/dist-packages (from google-auth>=1.12.0->gspread) (4.6)\n",
            "Requirement already satisfied, skipping upgrade: six>=1.9.0 in /usr/local/lib/python3.6/dist-packages (from google-auth>=1.12.0->gspread) (1.15.0)\n",
            "Requirement already satisfied, skipping upgrade: cachetools<5.0,>=2.0.0 in /usr/local/lib/python3.6/dist-packages (from google-auth>=1.12.0->gspread) (4.1.1)\n",
            "Requirement already satisfied, skipping upgrade: pyasn1-modules>=0.2.1 in /usr/local/lib/python3.6/dist-packages (from google-auth>=1.12.0->gspread) (0.2.8)\n",
            "Requirement already satisfied, skipping upgrade: oauthlib>=3.0.0 in /usr/local/lib/python3.6/dist-packages (from requests-oauthlib>=0.7.0->google-auth-oauthlib>=0.4.1->gspread) (3.1.0)\n",
            "Requirement already satisfied, skipping upgrade: pyasn1>=0.1.3 in /usr/local/lib/python3.6/dist-packages (from rsa<5,>=3.1.4; python_version >= \"3\"->google-auth>=1.12.0->gspread) (0.4.8)\n",
            "Installing collected packages: gspread\n",
            "  Found existing installation: gspread 3.0.1\n",
            "    Uninstalling gspread-3.0.1:\n",
            "      Successfully uninstalled gspread-3.0.1\n",
            "Successfully installed gspread-3.6.0\n"
          ],
          "name": "stdout"
        }
      ]
    },
    {
      "cell_type": "markdown",
      "metadata": {
        "id": "-DkgL5BO6NbR"
      },
      "source": [
        "**Download do Dataset**\n"
      ]
    },
    {
      "cell_type": "markdown",
      "metadata": {
        "id": "bCD36RYQCIoy"
      },
      "source": [
        "**Criando credenciais**\n",
        "Após instalar todas as bibliotecas necessárias vamos criar uma credencial no Google para gerenciar as planilhas."
      ]
    },
    {
      "cell_type": "code",
      "metadata": {
        "id": "TlLSX2PY6Imh",
        "outputId": "9a634aad-fab6-4b42-a07a-588d82e3cd1c",
        "colab": {
          "base_uri": "https://localhost:8080/",
          "height": 54
        }
      },
      "source": [
        "from google.colab import auth\n",
        "auth.authenticate_user()\n",
        "\n",
        "import gspread\n",
        "from oauth2client.client import GoogleCredentials\n",
        "\n",
        "gc = gspread.authorize(GoogleCredentials.get_application_default())\n",
        "\n",
        "wb = gc.open_by_key('11zHQchwsEXbUhZSX8RcaAC3hZzHkYiL74n7zjSt-hk8')\n",
        "\n",
        "ws = wb.worksheet('Página1')\n",
        "\n",
        "# get_all_values gives a list of rows.\n",
        "rows = ws.get_all_values()\n",
        "print(rows)"
      ],
      "execution_count": 25,
      "outputs": [
        {
          "output_type": "stream",
          "text": [
            "[['Investimento em Propaganda', 'Vendas'], ['30', '430'], ['21', '335'], ['35', '520'], ['42', '490'], ['37', '470'], ['2', '210'], ['8', '195'], ['17', '270'], ['35', '400'], ['25', '480']]\n"
          ],
          "name": "stdout"
        }
      ]
    },
    {
      "cell_type": "markdown",
      "metadata": {
        "id": "9Ur0jhUY6z0a"
      },
      "source": [
        "\n",
        "**Carregar o dataset para um Dataframe (Pandas)**"
      ]
    },
    {
      "cell_type": "code",
      "metadata": {
        "id": "056ZBnZT63Eh",
        "outputId": "5a9f9c38-3e35-4777-f4c2-b2aadbfa4048",
        "colab": {
          "base_uri": "https://localhost:8080/",
          "height": 204
        }
      },
      "source": [
        "# Convert to a DataFrame and render.\n",
        "import pandas as pd\n",
        "#pd.DataFrame.from_records(rows)\n",
        "# Cria um dataset chamado 'df' que receberá os dados da planilha\n",
        "df = pd.DataFrame(ws.get_all_records())\n",
        "df.head()"
      ],
      "execution_count": 26,
      "outputs": [
        {
          "output_type": "execute_result",
          "data": {
            "text/html": [
              "<div>\n",
              "<style scoped>\n",
              "    .dataframe tbody tr th:only-of-type {\n",
              "        vertical-align: middle;\n",
              "    }\n",
              "\n",
              "    .dataframe tbody tr th {\n",
              "        vertical-align: top;\n",
              "    }\n",
              "\n",
              "    .dataframe thead th {\n",
              "        text-align: right;\n",
              "    }\n",
              "</style>\n",
              "<table border=\"1\" class=\"dataframe\">\n",
              "  <thead>\n",
              "    <tr style=\"text-align: right;\">\n",
              "      <th></th>\n",
              "      <th>Investimento em Propaganda</th>\n",
              "      <th>Vendas</th>\n",
              "    </tr>\n",
              "  </thead>\n",
              "  <tbody>\n",
              "    <tr>\n",
              "      <th>0</th>\n",
              "      <td>30</td>\n",
              "      <td>430</td>\n",
              "    </tr>\n",
              "    <tr>\n",
              "      <th>1</th>\n",
              "      <td>21</td>\n",
              "      <td>335</td>\n",
              "    </tr>\n",
              "    <tr>\n",
              "      <th>2</th>\n",
              "      <td>35</td>\n",
              "      <td>520</td>\n",
              "    </tr>\n",
              "    <tr>\n",
              "      <th>3</th>\n",
              "      <td>42</td>\n",
              "      <td>490</td>\n",
              "    </tr>\n",
              "    <tr>\n",
              "      <th>4</th>\n",
              "      <td>37</td>\n",
              "      <td>470</td>\n",
              "    </tr>\n",
              "  </tbody>\n",
              "</table>\n",
              "</div>"
            ],
            "text/plain": [
              "   Investimento em Propaganda  Vendas\n",
              "0                          30     430\n",
              "1                          21     335\n",
              "2                          35     520\n",
              "3                          42     490\n",
              "4                          37     470"
            ]
          },
          "metadata": {
            "tags": []
          },
          "execution_count": 26
        }
      ]
    },
    {
      "cell_type": "code",
      "metadata": {
        "id": "Y2z1Z2PJ7-Xo",
        "outputId": "a0d5203e-0a29-4713-a3b2-91245defd2a7",
        "colab": {
          "base_uri": "https://localhost:8080/",
          "height": 204
        }
      },
      "source": [
        "# Removendo os espaços em branco\n",
        "cols = df.columns\n",
        "cols = cols.map(lambda x: x.replace(' ','') if isinstance(x, (str)) else x)\n",
        "df.columns = cols\n",
        "\n",
        "#EXIBE A ESTRUTURA DO DATAFRAME\n",
        "print(df)\n",
        "\n",
        "#Exibe o resumo do Dataset\n",
        "# print(df.describe()) "
      ],
      "execution_count": 27,
      "outputs": [
        {
          "output_type": "stream",
          "text": [
            "   InvestimentoemPropaganda  Vendas\n",
            "0                        30     430\n",
            "1                        21     335\n",
            "2                        35     520\n",
            "3                        42     490\n",
            "4                        37     470\n",
            "5                         2     210\n",
            "6                         8     195\n",
            "7                        17     270\n",
            "8                        35     400\n",
            "9                        25     480\n"
          ],
          "name": "stdout"
        }
      ]
    },
    {
      "cell_type": "markdown",
      "metadata": {
        "id": "SrbYWH6OBPco"
      },
      "source": [
        "Selecionar apenas as features Investimento em Propaganda e Vendas"
      ]
    },
    {
      "cell_type": "code",
      "metadata": {
        "id": "9xM09PDO7mv4",
        "outputId": "cbf518a1-bc59-4926-95a9-1f623bcd1f45",
        "colab": {
          "base_uri": "https://localhost:8080/",
          "height": 119
        }
      },
      "source": [
        "investimento =  df[['InvestimentoemPropaganda']]\n",
        "vendas = df[['Vendas']]\n",
        "print(vendas.head())"
      ],
      "execution_count": 36,
      "outputs": [
        {
          "output_type": "stream",
          "text": [
            "   Vendas\n",
            "0     430\n",
            "1     335\n",
            "2     520\n",
            "3     490\n",
            "4     470\n"
          ],
          "name": "stdout"
        }
      ]
    },
    {
      "cell_type": "markdown",
      "metadata": {
        "id": "-cg-BaX7DL0X"
      },
      "source": [
        "**Dividir o dataset em dados de treinamento e dados de teste**"
      ]
    },
    {
      "cell_type": "markdown",
      "metadata": {
        "id": "56x9ISI8DUin"
      },
      "source": [
        "Utilizaremos o train_test_split da bilbioteca scikitlearn"
      ]
    },
    {
      "cell_type": "code",
      "metadata": {
        "id": "jNWjlcHfDt5n"
      },
      "source": [
        "from sklearn.model_selection import train_test_split"
      ],
      "execution_count": 37,
      "outputs": []
    },
    {
      "cell_type": "code",
      "metadata": {
        "id": "YiXlS6jvDRc4",
        "outputId": "d507a48b-ebf1-47bc-c5f7-033fc0b38b3a",
        "colab": {
          "base_uri": "https://localhost:8080/",
          "height": 34
        }
      },
      "source": [
        "investimento_treino, investimento_test, vendas_treino, vendas_teste = train_test_split(investimento, vendas, test_size=0.2, random_state=42)\n",
        "print(type(investimento_treino))"
      ],
      "execution_count": 38,
      "outputs": [
        {
          "output_type": "stream",
          "text": [
            "<class 'pandas.core.frame.DataFrame'>\n"
          ],
          "name": "stdout"
        }
      ]
    },
    {
      "cell_type": "markdown",
      "metadata": {
        "id": "PugQ7pIuEAHx"
      },
      "source": [
        "**Exibir a correlação entre as features do dataset de treinamento**"
      ]
    },
    {
      "cell_type": "markdown",
      "metadata": {
        "id": "_TkmyBSzEfml"
      },
      "source": [
        "Usaremos Matplotlib que é uma biblioteca para a visualização de dados em Python;\n",
        " Matplotlib.pyplot é um módulo da matplotlib"
      ]
    },
    {
      "cell_type": "code",
      "metadata": {
        "id": "2jR_oNtHEMx1"
      },
      "source": [
        "from matplotlib import pyplot as plt"
      ],
      "execution_count": 39,
      "outputs": []
    },
    {
      "cell_type": "code",
      "metadata": {
        "id": "6Tn-jSYoECKc",
        "outputId": "e15a7b57-1e44-47ba-8fcc-61772a56bd07",
        "colab": {
          "base_uri": "https://localhost:8080/",
          "height": 279
        }
      },
      "source": [
        "plt.scatter(investimento_treino, vendas_treino, color='blue')\n",
        "plt.xlabel(\"Investimento em Propaganda\")\n",
        "plt.ylabel(\"Vendas\")\n",
        "plt.show()"
      ],
      "execution_count": 41,
      "outputs": [
        {
          "output_type": "display_data",
          "data": {
            "image/png": "[encoded data removed]",
            "text/plain": [
              "<Figure size 432x288 with 1 Axes>"
            ]
          },
          "metadata": {
            "tags": [],
            "needs_background": "light"
          }
        }
      ]
    },
    {
      "cell_type": "markdown",
      "metadata": {
        "id": "BLuFI0xEFhMj"
      },
      "source": [
        "https://github.com/diogocortiz/Curso-IA-para-todos/blob/master/RegressaoLinear/CrashCourse_Regress%C3%A3o_Linear.ipynb"
      ]
    },
    {
      "cell_type": "markdown",
      "metadata": {
        "id": "j6_inBPRG6-b"
      },
      "source": [
        "Treinar o modelo de regressão linear"
      ]
    },
    {
      "cell_type": "code",
      "metadata": {
        "id": "CKzFTkCwHP9v"
      },
      "source": [
        "from sklearn import linear_model"
      ],
      "execution_count": 42,
      "outputs": []
    },
    {
      "cell_type": "code",
      "metadata": {
        "id": "mtnqBfAYG9W8",
        "outputId": "f54d8bd7-6b5d-4892-de4c-9ede2c5ebb9b",
        "colab": {
          "base_uri": "https://localhost:8080/",
          "height": 34
        }
      },
      "source": [
        "# CRIAR UM MODELO DE TIPO DE REGRESSÃO LINEAR\n",
        "modelo =  linear_model.LinearRegression()\n",
        "\n",
        "# TREINAR O MODELO USANDO O DATASET DE TESTE\n",
        "# PARA ENCONTRAR O VALOR DE A E B (Y = A + B.X)\n",
        "modelo.fit(investimento, vendas)"
      ],
      "execution_count": 43,
      "outputs": [
        {
          "output_type": "execute_result",
          "data": {
            "text/plain": [
              "LinearRegression(copy_X=True, fit_intercept=True, n_jobs=None, normalize=False)"
            ]
          },
          "metadata": {
            "tags": []
          },
          "execution_count": 43
        }
      ]
    },
    {
      "cell_type": "markdown",
      "metadata": {
        "id": "C5WSRnm7HhKD"
      },
      "source": [
        "**Exibir os coeficientes (A e B)**"
      ]
    },
    {
      "cell_type": "code",
      "metadata": {
        "id": "QeQDvC9sHi8z",
        "outputId": "0d148e38-5a0d-4c3e-c226-4d16adf04a81",
        "colab": {
          "base_uri": "https://localhost:8080/",
          "height": 51
        }
      },
      "source": [
        "print('(A) Intercepto: ', modelo.intercept_)\n",
        "print('(B) Inclinação: ', modelo.coef_)"
      ],
      "execution_count": 44,
      "outputs": [
        {
          "output_type": "stream",
          "text": [
            "(A) Intercepto:  [170.78297763]\n",
            "(B) Inclinação:  [[8.30226279]]\n"
          ],
          "name": "stdout"
        }
      ]
    },
    {
      "cell_type": "markdown",
      "metadata": {
        "id": "CW51FNiYHqYd"
      },
      "source": [
        "**Vamos exibir a nossa reta de regressão no dataset de treino**"
      ]
    },
    {
      "cell_type": "code",
      "metadata": {
        "id": "8XFow0SoHrst",
        "outputId": "b1968818-319e-4dd8-bfb3-3ee418a8e869",
        "colab": {
          "base_uri": "https://localhost:8080/",
          "height": 279
        }
      },
      "source": [
        "plt.scatter(investimento_treino, vendas_treino, color='blue')\n",
        "plt.plot(investimento_treino, modelo.coef_[0][0]*investimento_treino + modelo.intercept_[0], '-r')\n",
        "plt.ylabel(\"Vendas\")\n",
        "plt.xlabel(\"Investimento\")\n",
        "plt.show()"
      ],
      "execution_count": 46,
      "outputs": [
        {
          "output_type": "display_data",
          "data": {
            "image/png": "[encoded data removed]",
            "text/plain": [
              "<Figure size 432x288 with 1 Axes>"
            ]
          },
          "metadata": {
            "tags": [],
            "needs_background": "light"
          }
        }
      ]
    },
    {
      "cell_type": "markdown",
      "metadata": {
        "id": "fHd2CAKHIbWJ"
      },
      "source": [
        "\n",
        "**Vamos executar o nosso modelo no dataset de teste**"
      ]
    },
    {
      "cell_type": "code",
      "metadata": {
        "id": "ZfefjVMBIctM"
      },
      "source": [
        "#Primeiro a gente tem que fazer as predições usando o modelo e base de teste\n",
        "predicoesVendas = modelo.predict(investimento_test)"
      ],
      "execution_count": 47,
      "outputs": []
    },
    {
      "cell_type": "markdown",
      "metadata": {
        "id": "cYxEcRQoIrXP"
      },
      "source": [
        "Vamos exibir a nossa reta de regressão no dataset de teste"
      ]
    },
    {
      "cell_type": "code",
      "metadata": {
        "id": "-3Wq9myXIsAL",
        "outputId": "c79e1663-4c9b-4911-b7a9-e72d6e323eb3",
        "colab": {
          "base_uri": "https://localhost:8080/",
          "height": 279
        }
      },
      "source": [
        "plt.scatter(investimento_test, vendas_teste, color='blue')\n",
        "plt.plot(investimento_test, modelo.coef_[0][0]*investimento_test + modelo.intercept_[0], '-r')\n",
        "plt.ylabel(\"vendas\")\n",
        "plt.xlabel(\"investimento\")\n",
        "plt.show()"
      ],
      "execution_count": 48,
      "outputs": [
        {
          "output_type": "display_data",
          "data": {
            "image/png": "[encoded data removed]",
            "text/plain": [
              "<Figure size 432x288 with 1 Axes>"
            ]
          },
          "metadata": {
            "tags": [],
            "needs_background": "light"
          }
        }
      ]
    },
    {
      "cell_type": "markdown",
      "metadata": {
        "id": "yIeXEA_nI9LE"
      },
      "source": [
        "Vamos avaliar o modelo"
      ]
    },
    {
      "cell_type": "code",
      "metadata": {
        "id": "2WyIWMqhJD2K"
      },
      "source": [
        "import pylab as pl\n",
        "import numpy as np\n",
        "from sklearn.metrics import r2_score, mean_squared_error,mean_absolute_error\n",
        "from sklearn.model_selection import train_test_split\n",
        "from math import sqrt"
      ],
      "execution_count": 49,
      "outputs": []
    },
    {
      "cell_type": "code",
      "metadata": {
        "id": "9RzOkf7jI99j",
        "outputId": "edd7c963-15a4-4915-c43c-d18d1bc8cd57",
        "colab": {
          "base_uri": "https://localhost:8080/",
          "height": 102
        }
      },
      "source": [
        "#Agora é mostrar as métricas\n",
        "print(\"Soma dos Erros ao Quadrado (SSE): %2.f \" % np.sum((predicoesVendas - vendas_teste)**2))\n",
        "print(\"Erro Quadrático Médio (MSE): %.2f\" % mean_squared_error(vendas_teste, predicoesVendas))\n",
        "print(\"Erro Médio Absoluto (MAE): %.2f\" % mean_absolute_error(vendas_teste, predicoesVendas))\n",
        "print (\"Raiz do Erro Quadrático Médio (RMSE): %.2f \" % sqrt(mean_squared_error(vendas_teste, predicoesVendas)))\n",
        "print(\"R2-score: %.2f\" % r2_score(predicoesVendas , vendas_teste) )"
      ],
      "execution_count": 51,
      "outputs": [
        {
          "output_type": "stream",
          "text": [
            "Soma dos Erros ao Quadrado (SSE): 3868 \n",
            "Erro Quadrático Médio (MSE): 1933.97\n",
            "Erro Médio Absoluto (MAE): 35.75\n",
            "Raiz do Erro Quadrático Médio (RMSE): 43.98 \n",
            "R2-score: 0.43\n"
          ],
          "name": "stdout"
        }
      ]
    }
  ]
}