{
  "nbformat": 4,
  "nbformat_minor": 0,
  "metadata": {
    "colab": {
      "name": "RegressaoLinear.ipynb",
      "provenance": [],
      "authorship_tag": "ABX9TyMCNXyLy9Pu6M8pdA9arSHt",
      "include_colab_link": true
    },
    "kernelspec": {
      "name": "python3",
      "display_name": "Python 3"
    }
  },
  "cells": [
    {
      "cell_type": "markdown",
      "metadata": {
        "id": "view-in-github",
        "colab_type": "text"
      },
      "source": [
        "<a href=\"https://colab.research.google.com/github/leonardosolar/intelligence-artificial/blob/main/RegressaoLinear.ipynb\" target=\"_parent\"><img src=\"https://colab.research.google.com/assets/colab-badge.svg\" alt=\"Open In Colab\"/></a>"
      ]
    },
    {
      "cell_type": "markdown",
      "metadata": {
        "id": "INhQui7h5X-i"
      },
      "source": [
        "**`Regressão Linear`**"
      ]
    },
    {
      "cell_type": "markdown",
      "metadata": {
        "id": "PUXoY41GCzy_"
      },
      "source": [
        "Trata-se de um conjunto de dados que contem, para a Variável X: Quilometragem. A variável Y: Consumo de combustível."
      ]
    },
    {
      "cell_type": "markdown",
      "metadata": {
        "id": "-DkgL5BO6NbR"
      },
      "source": [
        "**Criando o Dataset**\n"
      ]
    },
    {
      "cell_type": "code",
      "metadata": {
        "id": "iWvav4IDsS1u"
      },
      "source": [
        "import numpy as np"
      ],
      "execution_count": 38,
      "outputs": []
    },
    {
      "cell_type": "code",
      "metadata": {
        "id": "L2Q2MaBTwWf9",
        "outputId": "faf8407a-dbbb-4929-a8dc-517e49d0aed2",
        "colab": {
          "base_uri": "https://localhost:8080/",
          "height": 204
        }
      },
      "source": [
        "import pandas as pd\n",
        "df = pd.DataFrame({\"A\": [100,200,300,400,500], \"B\": [10,20,30,40,50]})\n",
        "df"
      ],
      "execution_count": 47,
      "outputs": [
        {
          "output_type": "execute_result",
          "data": {
            "text/html": [
              "<div>\n",
              "<style scoped>\n",
              "    .dataframe tbody tr th:only-of-type {\n",
              "        vertical-align: middle;\n",
              "    }\n",
              "\n",
              "    .dataframe tbody tr th {\n",
              "        vertical-align: top;\n",
              "    }\n",
              "\n",
              "    .dataframe thead th {\n",
              "        text-align: right;\n",
              "    }\n",
              "</style>\n",
              "<table border=\"1\" class=\"dataframe\">\n",
              "  <thead>\n",
              "    <tr style=\"text-align: right;\">\n",
              "      <th></th>\n",
              "      <th>A</th>\n",
              "      <th>B</th>\n",
              "    </tr>\n",
              "  </thead>\n",
              "  <tbody>\n",
              "    <tr>\n",
              "      <th>0</th>\n",
              "      <td>100</td>\n",
              "      <td>10</td>\n",
              "    </tr>\n",
              "    <tr>\n",
              "      <th>1</th>\n",
              "      <td>200</td>\n",
              "      <td>20</td>\n",
              "    </tr>\n",
              "    <tr>\n",
              "      <th>2</th>\n",
              "      <td>300</td>\n",
              "      <td>30</td>\n",
              "    </tr>\n",
              "    <tr>\n",
              "      <th>3</th>\n",
              "      <td>400</td>\n",
              "      <td>40</td>\n",
              "    </tr>\n",
              "    <tr>\n",
              "      <th>4</th>\n",
              "      <td>500</td>\n",
              "      <td>50</td>\n",
              "    </tr>\n",
              "  </tbody>\n",
              "</table>\n",
              "</div>"
            ],
            "text/plain": [
              "     A   B\n",
              "0  100  10\n",
              "1  200  20\n",
              "2  300  30\n",
              "3  400  40\n",
              "4  500  50"
            ]
          },
          "metadata": {
            "tags": []
          },
          "execution_count": 47
        }
      ]
    },
    {
      "cell_type": "code",
      "metadata": {
        "id": "-WEUhPVMw5p7",
        "outputId": "4076d326-f25c-46c7-fc7b-0f4d1d6fe838",
        "colab": {
          "base_uri": "https://localhost:8080/",
          "height": 204
        }
      },
      "source": [
        "x =  df[['A']]\n",
        "y = df[['B']]\n",
        "x"
      ],
      "execution_count": 49,
      "outputs": [
        {
          "output_type": "execute_result",
          "data": {
            "text/html": [
              "<div>\n",
              "<style scoped>\n",
              "    .dataframe tbody tr th:only-of-type {\n",
              "        vertical-align: middle;\n",
              "    }\n",
              "\n",
              "    .dataframe tbody tr th {\n",
              "        vertical-align: top;\n",
              "    }\n",
              "\n",
              "    .dataframe thead th {\n",
              "        text-align: right;\n",
              "    }\n",
              "</style>\n",
              "<table border=\"1\" class=\"dataframe\">\n",
              "  <thead>\n",
              "    <tr style=\"text-align: right;\">\n",
              "      <th></th>\n",
              "      <th>A</th>\n",
              "    </tr>\n",
              "  </thead>\n",
              "  <tbody>\n",
              "    <tr>\n",
              "      <th>0</th>\n",
              "      <td>100</td>\n",
              "    </tr>\n",
              "    <tr>\n",
              "      <th>1</th>\n",
              "      <td>200</td>\n",
              "    </tr>\n",
              "    <tr>\n",
              "      <th>2</th>\n",
              "      <td>300</td>\n",
              "    </tr>\n",
              "    <tr>\n",
              "      <th>3</th>\n",
              "      <td>400</td>\n",
              "    </tr>\n",
              "    <tr>\n",
              "      <th>4</th>\n",
              "      <td>500</td>\n",
              "    </tr>\n",
              "  </tbody>\n",
              "</table>\n",
              "</div>"
            ],
            "text/plain": [
              "     A\n",
              "0  100\n",
              "1  200\n",
              "2  300\n",
              "3  400\n",
              "4  500"
            ]
          },
          "metadata": {
            "tags": []
          },
          "execution_count": 49
        }
      ]
    },
    {
      "cell_type": "markdown",
      "metadata": {
        "id": "ouwkoRwM3Kqp"
      },
      "source": [
        "**Plotar o gráfico**"
      ]
    },
    {
      "cell_type": "markdown",
      "metadata": {
        "id": "P5pNpQd63ZoF"
      },
      "source": [
        "Usaremos Matplotlib que é uma biblioteca para a visualização de dados em Python; Matplotlib.pyplot é um módulo da matplotlib"
      ]
    },
    {
      "cell_type": "code",
      "metadata": {
        "id": "pgP31ZXU3VfF"
      },
      "source": [
        "from matplotlib import pyplot as plt"
      ],
      "execution_count": 16,
      "outputs": []
    },
    {
      "cell_type": "code",
      "metadata": {
        "id": "Jl59v9Jd3mF3",
        "outputId": "f1a009e5-9f23-41ca-fc3b-584c7e74c586",
        "colab": {
          "base_uri": "https://localhost:8080/",
          "height": 265
        }
      },
      "source": [
        "plt.scatter(x,y,color='red');"
      ],
      "execution_count": 50,
      "outputs": [
        {
          "output_type": "display_data",
          "data": {
            "image/png": "[encoded data removed]",
            "text/plain": [
              "<Figure size 432x288 with 1 Axes>"
            ]
          },
          "metadata": {
            "tags": [],
            "needs_background": "light"
          }
        }
      ]
    },
    {
      "cell_type": "code",
      "metadata": {
        "id": "hjBVSJo4ehGS",
        "outputId": "659e5b05-05ef-4904-8abf-4f2ba72381b3",
        "colab": {
          "base_uri": "https://localhost:8080/",
          "height": 279
        }
      },
      "source": [
        "plt.scatter(x,y,label='Y(X)');\n",
        "plt.xlabel('Quilometragem');\n",
        "plt.ylabel('Consumo');\n",
        "plt.legend();"
      ],
      "execution_count": 18,
      "outputs": [
        {
          "output_type": "display_data",
          "data": {
            "image/png": "[encoded data removed]",
            "text/plain": [
              "<Figure size 432x288 with 1 Axes>"
            ]
          },
          "metadata": {
            "tags": [],
            "needs_background": "light"
          }
        }
      ]
    },
    {
      "cell_type": "markdown",
      "metadata": {
        "id": "-cg-BaX7DL0X"
      },
      "source": [
        "**Dividir o dataset em dados de treinamento e dados de teste**"
      ]
    },
    {
      "cell_type": "markdown",
      "metadata": {
        "id": "56x9ISI8DUin"
      },
      "source": [
        "Utilizaremos o train_test_split da bilbioteca scikitlearn"
      ]
    },
    {
      "cell_type": "code",
      "metadata": {
        "id": "jNWjlcHfDt5n"
      },
      "source": [
        "from sklearn.model_selection import train_test_split"
      ],
      "execution_count": 51,
      "outputs": []
    },
    {
      "cell_type": "code",
      "metadata": {
        "id": "YiXlS6jvDRc4",
        "outputId": "75bbf0b1-c950-444d-e82b-b12641acc1f5",
        "colab": {
          "base_uri": "https://localhost:8080/"
        }
      },
      "source": [
        "x_train, x_test, y_train, y_test = train_test_split(x, x, test_size=0.2, random_state=42)\n",
        "print(type(x_train,))"
      ],
      "execution_count": 52,
      "outputs": [
        {
          "output_type": "stream",
          "text": [
            "<class 'pandas.core.frame.DataFrame'>\n"
          ],
          "name": "stdout"
        }
      ]
    },
    {
      "cell_type": "markdown",
      "metadata": {
        "id": "xN1FR7OA9NcU"
      },
      "source": [
        " dataset de treino"
      ]
    },
    {
      "cell_type": "code",
      "metadata": {
        "id": "PVdqAGXo8173",
        "outputId": "eb651723-017a-4e04-d830-9a0f2da90123",
        "colab": {
          "base_uri": "https://localhost:8080/"
        }
      },
      "source": [
        "print(x_train)"
      ],
      "execution_count": 53,
      "outputs": [
        {
          "output_type": "stream",
          "text": [
            "     A\n",
            "4  500\n",
            "2  300\n",
            "0  100\n",
            "3  400\n"
          ],
          "name": "stdout"
        }
      ]
    },
    {
      "cell_type": "markdown",
      "metadata": {
        "id": "BKwvlan89Q_d"
      },
      "source": [
        " dataset de teste"
      ]
    },
    {
      "cell_type": "code",
      "metadata": {
        "id": "QDpZBNY_9BzK",
        "outputId": "41c35e6b-b7a6-49c2-b02a-b1fd525843d8",
        "colab": {
          "base_uri": "https://localhost:8080/"
        }
      },
      "source": [
        "print(x_test)"
      ],
      "execution_count": 54,
      "outputs": [
        {
          "output_type": "stream",
          "text": [
            "     A\n",
            "1  200\n"
          ],
          "name": "stdout"
        }
      ]
    },
    {
      "cell_type": "markdown",
      "metadata": {
        "id": "PugQ7pIuEAHx"
      },
      "source": [
        "**Exibir a correlação entre as features do dataset de treinamento**"
      ]
    },
    {
      "cell_type": "markdown",
      "metadata": {
        "id": "_TkmyBSzEfml"
      },
      "source": [
        "plt = Matplotlib que é uma biblioteca para a visualização de dados em Python;\n",
        " Matplotlib.pyplot é um módulo da matplotlib"
      ]
    },
    {
      "cell_type": "code",
      "metadata": {
        "id": "6Tn-jSYoECKc",
        "outputId": "fa71984f-ac00-4eec-d278-6bbb66da1d3c",
        "colab": {
          "base_uri": "https://localhost:8080/",
          "height": 279
        }
      },
      "source": [
        "plt.scatter(x_train, y_train, color='blue')\n",
        "plt.xlabel('Quilometragem');\n",
        "plt.ylabel('Consumo');\n",
        "plt.show()"
      ],
      "execution_count": 55,
      "outputs": [
        {
          "output_type": "display_data",
          "data": {
            "image/png": "[encoded data removed]",
            "text/plain": [
              "<Figure size 432x288 with 1 Axes>"
            ]
          },
          "metadata": {
            "tags": [],
            "needs_background": "light"
          }
        }
      ]
    },
    {
      "cell_type": "markdown",
      "metadata": {
        "id": "j6_inBPRG6-b"
      },
      "source": [
        "**Treinar o modelo de regressão linear (Y = A + B.X)**"
      ]
    },
    {
      "cell_type": "markdown",
      "metadata": {
        "id": "ytgGeJMDAzkk"
      },
      "source": [
        "Aplicando Regressão Linear com Scikit-Learn"
      ]
    },
    {
      "cell_type": "code",
      "metadata": {
        "id": "CKzFTkCwHP9v"
      },
      "source": [
        "from sklearn import linear_model"
      ],
      "execution_count": 56,
      "outputs": []
    },
    {
      "cell_type": "code",
      "metadata": {
        "id": "u2nv65RxpWIZ",
        "outputId": "ed125cb2-29e8-42f6-eb71-ee03537d183c",
        "colab": {
          "base_uri": "https://localhost:8080/"
        }
      },
      "source": [
        "# CRIAR UM MODELO DE TIPO DE REGRESSÃO LINEAR\n",
        "modelo =  linear_model.LinearRegression()\n",
        "\n",
        "# TREINAR O MODELO USANDO O DATASET DE TESTE\n",
        "# PARA ENCONTRAR O VALOR DE A E B (Y = A + B.X)\n",
        "modelo.fit(x_train,y_train)"
      ],
      "execution_count": 60,
      "outputs": [
        {
          "output_type": "execute_result",
          "data": {
            "text/plain": [
              "LinearRegression(copy_X=True, fit_intercept=True, n_jobs=None, normalize=False)"
            ]
          },
          "metadata": {
            "tags": []
          },
          "execution_count": 60
        }
      ]
    },
    {
      "cell_type": "code",
      "metadata": {
        "id": "NyKGbHNfxqiu",
        "outputId": "b7628b64-5f95-4fbb-f16c-c7b96aa03303",
        "colab": {
          "base_uri": "https://localhost:8080/"
        }
      },
      "source": [
        "print('(A) Intercepto: ', modelo.intercept_)\n",
        "print('(B) Inclinação: ', modelo.coef_)"
      ],
      "execution_count": 61,
      "outputs": [
        {
          "output_type": "stream",
          "text": [
            "(A) Intercepto:  [0.]\n",
            "(B) Inclinação:  [[1.]]\n"
          ],
          "name": "stdout"
        }
      ]
    },
    {
      "cell_type": "code",
      "metadata": {
        "id": "klJtx9xByCk7",
        "outputId": "2937014f-203b-4e4a-fbdf-7d2b4a9ff0c0",
        "colab": {
          "base_uri": "https://localhost:8080/"
        }
      },
      "source": [
        "y_pred = modelo.predict(x_test)\n",
        "y_pred"
      ],
      "execution_count": 63,
      "outputs": [
        {
          "output_type": "execute_result",
          "data": {
            "text/plain": [
              "array([[200.]])"
            ]
          },
          "metadata": {
            "tags": []
          },
          "execution_count": 63
        }
      ]
    }
  ]
}