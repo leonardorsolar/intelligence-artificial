{
  "nbformat": 4,
  "nbformat_minor": 0,
  "metadata": {
    "colab": {
      "name": "RegressaoLinear.ipynb",
      "provenance": [],
      "authorship_tag": "ABX9TyOQQF7brGppJix0StXDtIsf",
      "include_colab_link": true
    },
    "kernelspec": {
      "name": "python3",
      "display_name": "Python 3"
    }
  },
  "cells": [
    {
      "cell_type": "markdown",
      "metadata": {
        "id": "view-in-github",
        "colab_type": "text"
      },
      "source": [
        "<a href=\"https://colab.research.google.com/github/leonardosolar/intelligence-artificial/blob/main/RegressaoLinear.ipynb\" target=\"_parent\"><img src=\"https://colab.research.google.com/assets/colab-badge.svg\" alt=\"Open In Colab\"/></a>"
      ]
    },
    {
      "cell_type": "markdown",
      "metadata": {
        "id": "INhQui7h5X-i"
      },
      "source": [
        "**`Regressão Linear`**"
      ]
    },
    {
      "cell_type": "markdown",
      "metadata": {
        "id": "PUXoY41GCzy_"
      },
      "source": [
        "Trata-se de um conjunto de dados que contem, para a Variável X: Quilometragem. A variável Y: Consumo de combustível."
      ]
    },
    {
      "cell_type": "markdown",
      "metadata": {
        "id": "-DkgL5BO6NbR"
      },
      "source": [
        "**Criando o Dataset**\n"
      ]
    },
    {
      "cell_type": "code",
      "metadata": {
        "id": "7MDnoIWzdG3L",
        "outputId": "f4a190b9-62ff-49a3-d0cc-6dca92805ff9",
        "colab": {
          "base_uri": "https://localhost:8080/"
        }
      },
      "source": [
        "x = [100,200,300,400,500]\n",
        "y = [10,20,30,40,50]\n",
        "\n",
        "#exibir o vetor de x \n",
        "x"
      ],
      "execution_count": 3,
      "outputs": [
        {
          "output_type": "execute_result",
          "data": {
            "text/plain": [
              "[100, 200, 300, 400, 500]"
            ]
          },
          "metadata": {
            "tags": []
          },
          "execution_count": 3
        }
      ]
    },
    {
      "cell_type": "markdown",
      "metadata": {
        "id": "ouwkoRwM3Kqp"
      },
      "source": [
        "**Plotar o gráfico**"
      ]
    },
    {
      "cell_type": "markdown",
      "metadata": {
        "id": "P5pNpQd63ZoF"
      },
      "source": [
        "Usaremos Matplotlib que é uma biblioteca para a visualização de dados em Python; Matplotlib.pyplot é um módulo da matplotlib"
      ]
    },
    {
      "cell_type": "code",
      "metadata": {
        "id": "pgP31ZXU3VfF"
      },
      "source": [
        "from matplotlib import pyplot as plt"
      ],
      "execution_count": 6,
      "outputs": []
    },
    {
      "cell_type": "code",
      "metadata": {
        "id": "Jl59v9Jd3mF3",
        "outputId": "d9fb69ef-c786-4bc4-e37c-ecdfe48f1115",
        "colab": {
          "base_uri": "https://localhost:8080/",
          "height": 265
        }
      },
      "source": [
        "plt.scatter(x,y,color='red');"
      ],
      "execution_count": 11,
      "outputs": [
        {
          "output_type": "display_data",
          "data": {
            "image/png": "[encoded data removed]",
            "text/plain": [
              "<Figure size 432x288 with 1 Axes>"
            ]
          },
          "metadata": {
            "tags": [],
            "needs_background": "light"
          }
        }
      ]
    },
    {
      "cell_type": "code",
      "metadata": {
        "id": "hjBVSJo4ehGS",
        "outputId": "7bbe2a4b-42d1-48b4-85da-fe2c1f498013",
        "colab": {
          "base_uri": "https://localhost:8080/",
          "height": 279
        }
      },
      "source": [
        "plt.scatter(x,y,label='Y(X)');\n",
        "plt.xlabel('Quilometragem');\n",
        "plt.ylabel('Consumo');\n",
        "plt.legend();"
      ],
      "execution_count": 13,
      "outputs": [
        {
          "output_type": "display_data",
          "data": {
            "image/png": "[encoded data removed]",
            "text/plain": [
              "<Figure size 432x288 with 1 Axes>"
            ]
          },
          "metadata": {
            "tags": [],
            "needs_background": "light"
          }
        }
      ]
    },
    {
      "cell_type": "markdown",
      "metadata": {
        "id": "-cg-BaX7DL0X"
      },
      "source": [
        "**Dividir o dataset em dados de treinamento e dados de teste**"
      ]
    },
    {
      "cell_type": "markdown",
      "metadata": {
        "id": "56x9ISI8DUin"
      },
      "source": [
        "Utilizaremos o train_test_split da bilbioteca scikitlearn"
      ]
    },
    {
      "cell_type": "code",
      "metadata": {
        "id": "jNWjlcHfDt5n"
      },
      "source": [
        "from sklearn.model_selection import train_test_split"
      ],
      "execution_count": null,
      "outputs": []
    },
    {
      "cell_type": "code",
      "metadata": {
        "id": "YiXlS6jvDRc4",
        "outputId": "70751ad0-9a5b-4289-f134-e8473cf646c2",
        "colab": {
          "base_uri": "https://localhost:8080/"
        }
      },
      "source": [
        "investimento_treino, investimento_test, vendas_treino, vendas_teste = train_test_split(investimento, vendas, test_size=0.2, random_state=42)\n",
        "print(type(investimento_treino))"
      ],
      "execution_count": null,
      "outputs": [
        {
          "output_type": "stream",
          "text": [
            "<class 'pandas.core.frame.DataFrame'>\n"
          ],
          "name": "stdout"
        }
      ]
    },
    {
      "cell_type": "markdown",
      "metadata": {
        "id": "xN1FR7OA9NcU"
      },
      "source": [
        " dataset de treino"
      ]
    },
    {
      "cell_type": "code",
      "metadata": {
        "id": "PVdqAGXo8173",
        "outputId": "828880b6-f1da-4d38-b747-b8869d00159a",
        "colab": {
          "base_uri": "https://localhost:8080/"
        }
      },
      "source": [
        "print(vendas_treino.head())"
      ],
      "execution_count": null,
      "outputs": [
        {
          "output_type": "stream",
          "text": [
            "   Vendas\n",
            "5     210\n",
            "0     430\n",
            "7     270\n",
            "2     520\n",
            "9     480\n"
          ],
          "name": "stdout"
        }
      ]
    },
    {
      "cell_type": "markdown",
      "metadata": {
        "id": "BKwvlan89Q_d"
      },
      "source": [
        " dataset de teste"
      ]
    },
    {
      "cell_type": "code",
      "metadata": {
        "id": "QDpZBNY_9BzK",
        "outputId": "22125b11-4114-4a5c-c9ac-fddfc44317dd",
        "colab": {
          "base_uri": "https://localhost:8080/"
        }
      },
      "source": [
        "print(vendas_teste.head())"
      ],
      "execution_count": null,
      "outputs": [
        {
          "output_type": "stream",
          "text": [
            "   Vendas\n",
            "8     400\n",
            "1     335\n"
          ],
          "name": "stdout"
        }
      ]
    },
    {
      "cell_type": "markdown",
      "metadata": {
        "id": "PugQ7pIuEAHx"
      },
      "source": [
        "**Exibir a correlação entre as features do dataset de treinamento**"
      ]
    },
    {
      "cell_type": "markdown",
      "metadata": {
        "id": "_TkmyBSzEfml"
      },
      "source": [
        "plt = Matplotlib que é uma biblioteca para a visualização de dados em Python;\n",
        " Matplotlib.pyplot é um módulo da matplotlib"
      ]
    },
    {
      "cell_type": "code",
      "metadata": {
        "id": "6Tn-jSYoECKc",
        "outputId": "c3ddcbf9-96ac-47b9-e3bd-413e2f29cd9f",
        "colab": {
          "base_uri": "https://localhost:8080/",
          "height": 279
        }
      },
      "source": [
        "plt.scatter(investimento_treino, vendas_treino, color='blue')\n",
        "plt.xlabel(\"Investimento em Propaganda\")\n",
        "plt.ylabel(\"Vendas\")\n",
        "plt.show()"
      ],
      "execution_count": null,
      "outputs": [
        {
          "output_type": "display_data",
          "data": {
            "image/png": "[encoded data removed]",
            "text/plain": [
              "<Figure size 432x288 with 1 Axes>"
            ]
          },
          "metadata": {
            "tags": [],
            "needs_background": "light"
          }
        }
      ]
    },
    {
      "cell_type": "markdown",
      "metadata": {
        "id": "j6_inBPRG6-b"
      },
      "source": [
        "**Treinar o modelo de regressão linear (Y = A + B.X)**"
      ]
    },
    {
      "cell_type": "markdown",
      "metadata": {
        "id": "ytgGeJMDAzkk"
      },
      "source": [
        "Aplicando Regressão Linear com Scikit-Learn"
      ]
    },
    {
      "cell_type": "code",
      "metadata": {
        "id": "CKzFTkCwHP9v"
      },
      "source": [
        "from sklearn import linear_model"
      ],
      "execution_count": null,
      "outputs": []
    }
  ]
}