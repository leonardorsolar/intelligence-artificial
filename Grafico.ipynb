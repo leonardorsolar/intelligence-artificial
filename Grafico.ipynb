{
  "nbformat": 4,
  "nbformat_minor": 0,
  "metadata": {
    "colab": {
      "name": "Grafico.ipynb",
      "provenance": [],
      "authorship_tag": "ABX9TyPxtfSL+SGT7JaNsmcSmnkR",
      "include_colab_link": true
    },
    "kernelspec": {
      "name": "python3",
      "display_name": "Python 3"
    }
  },
  "cells": [
    {
      "cell_type": "markdown",
      "metadata": {
        "id": "view-in-github",
        "colab_type": "text"
      },
      "source": [
        "<a href=\"https://colab.research.google.com/github/leonardosolar/intelligence-artificial/blob/main/Grafico.ipynb\" target=\"_parent\"><img src=\"https://colab.research.google.com/assets/colab-badge.svg\" alt=\"Open In Colab\"/></a>"
      ]
    },
    {
      "cell_type": "markdown",
      "metadata": {
        "id": "INhQui7h5X-i"
      },
      "source": [
        "**`Gráfico em Phyton`**"
      ]
    },
    {
      "cell_type": "markdown",
      "metadata": {
        "id": "PUXoY41GCzy_"
      },
      "source": [
        "Trata-se de um conjunto de dados que contem, para a Variável X: Quilometragem. A variável Y: Consumo de combustível."
      ]
    },
    {
      "cell_type": "markdown",
      "metadata": {
        "id": "-DkgL5BO6NbR"
      },
      "source": [
        "**Criando o Dataset**\n"
      ]
    },
    {
      "cell_type": "code",
      "metadata": {
        "id": "7MDnoIWzdG3L",
        "outputId": "bf7131d7-f61a-41fc-884f-35947ddedbcc",
        "colab": {
          "base_uri": "https://localhost:8080/"
        }
      },
      "source": [
        "x = [100,200,300,400,500]\n",
        "y = [10,20,30,40,50]\n",
        "\n",
        "#exibir o vetor de x \n",
        "x"
      ],
      "execution_count": null,
      "outputs": [
        {
          "output_type": "execute_result",
          "data": {
            "text/plain": [
              "[100, 200, 300, 400, 500]"
            ]
          },
          "metadata": {
            "tags": []
          },
          "execution_count": 32
        }
      ]
    },
    {
      "cell_type": "markdown",
      "metadata": {
        "id": "ouwkoRwM3Kqp"
      },
      "source": [
        "**Plotar o gráfico**"
      ]
    },
    {
      "cell_type": "markdown",
      "metadata": {
        "id": "P5pNpQd63ZoF"
      },
      "source": [
        "Usaremos Matplotlib que é uma biblioteca para a visualização de dados em Python; Matplotlib.pyplot é um módulo da matplotlib"
      ]
    },
    {
      "cell_type": "code",
      "metadata": {
        "id": "pgP31ZXU3VfF"
      },
      "source": [
        "from matplotlib import pyplot as plt"
      ],
      "execution_count": null,
      "outputs": []
    },
    {
      "cell_type": "code",
      "metadata": {
        "id": "Jl59v9Jd3mF3",
        "outputId": "b27d83e9-d833-4d52-aa41-f18a16767048",
        "colab": {
          "base_uri": "https://localhost:8080/",
          "height": 265
        }
      },
      "source": [
        "plt.scatter(x,y,color='red');"
      ],
      "execution_count": null,
      "outputs": [
        {
          "output_type": "display_data",
          "data": {
            "image/png": "[encoded data removed]",
            "text/plain": [
              "<Figure size 432x288 with 1 Axes>"
            ]
          },
          "metadata": {
            "tags": [],
            "needs_background": "light"
          }
        }
      ]
    },
    {
      "cell_type": "code",
      "metadata": {
        "id": "hjBVSJo4ehGS",
        "outputId": "659e5b05-05ef-4904-8abf-4f2ba72381b3",
        "colab": {
          "base_uri": "https://localhost:8080/",
          "height": 279
        }
      },
      "source": [
        "plt.scatter(x,y,label='Y(X)');\n",
        "plt.xlabel('Quilometragem');\n",
        "plt.ylabel('Consumo');\n",
        "plt.legend();"
      ],
      "execution_count": null,
      "outputs": [
        {
          "output_type": "display_data",
          "data": {
            "image/png": "[encoded data removed]",
            "text/plain": [
              "<Figure size 432x288 with 1 Axes>"
            ]
          },
          "metadata": {
            "tags": [],
            "needs_background": "light"
          }
        }
      ]
    }
  ]
}